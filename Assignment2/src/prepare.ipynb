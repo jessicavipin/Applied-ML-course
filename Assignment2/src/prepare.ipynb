{
 "cells": [
  {
   "cell_type": "code",
   "execution_count": 5,
   "metadata": {},
   "outputs": [],
   "source": [
    "%matplotlib inline\n",
    "import matplotlib.pyplot as plt\n",
    "import csv\n",
    "from textblob import TextBlob\n",
    "import pandas\n",
    "import sklearn\n",
    "import pickle\n",
    "import numpy as np\n",
    "from sklearn.feature_extraction.text import CountVectorizer, TfidfTransformer\n",
    "from sklearn.naive_bayes import MultinomialNB\n",
    "from sklearn.svm import SVC, LinearSVC\n",
    "from sklearn.metrics import classification_report, f1_score, accuracy_score, confusion_matrix\n",
    "from sklearn.pipeline import Pipeline\n",
    "from sklearn.model_selection import GridSearchCV\n",
    "from sklearn.model_selection import StratifiedKFold, cross_val_score, train_test_split \n",
    "from sklearn.tree import DecisionTreeClassifier \n",
    "from sklearn.model_selection import learning_curve"
   ]
  },
  {
   "cell_type": "code",
   "execution_count": 6,
   "metadata": {},
   "outputs": [
    {
     "name": "stdout",
     "output_type": "stream",
     "text": [
      "                                                message label\n",
      "1     Subject: naturally irresistible your corporate...     1\n",
      "2     Subject: the stock trading gunslinger  fanny i...     1\n",
      "3     Subject: unbelievable new homes made easy  im ...     1\n",
      "4     Subject: 4 color printing special  request add...     1\n",
      "5     Subject: do not have money , get software cds ...     1\n",
      "...                                                 ...   ...\n",
      "5724  Subject: re : research and development charges...     0\n",
      "5725  Subject: re : receipts from visit  jim ,  than...     0\n",
      "5726  Subject: re : enron case study update  wow ! a...     0\n",
      "5727  Subject: re : interest  david ,  please , call...     0\n",
      "5728  Subject: news : aurora 5 . 2 update  aurora ve...     0\n",
      "\n",
      "[5728 rows x 2 columns]\n"
     ]
    }
   ],
   "source": [
    "#load the data from a given file path\n",
    "data = pandas.read_csv('data/emails.csv',sep=',',header=None)\n",
    "data= data[1:]\n",
    "data.columns=[\"message\", \"label\"]\n",
    "print(data)"
   ]
  },
  {
   "cell_type": "code",
   "execution_count": 7,
   "metadata": {},
   "outputs": [
    {
     "name": "stdout",
     "output_type": "stream",
     "text": [
      "                                                message label\n",
      "1     Subject: naturally irresistible your corporate...     1\n",
      "2     Subject: the stock trading gunslinger  fanny i...     1\n",
      "3     Subject: unbelievable new homes made easy  im ...     1\n",
      "4     Subject: 4 color printing special  request add...     1\n",
      "5     Subject: do not have money , get software cds ...     1\n",
      "...                                                 ...   ...\n",
      "5724  Subject: re : research and development charges...     0\n",
      "5725  Subject: re : receipts from visit  jim ,  than...     0\n",
      "5726  Subject: re : enron case study update  wow ! a...     0\n",
      "5727  Subject: re : interest  david ,  please , call...     0\n",
      "5728  Subject: news : aurora 5 . 2 update  aurora ve...     0\n",
      "\n",
      "[5728 rows x 2 columns]\n"
     ]
    }
   ],
   "source": [
    "#Preprocess the data\n",
    "def split_into_lemmas(data):\n",
    "    data = data.lower()\n",
    "    words = TextBlob(data).words\n",
    "    # for each word, take its \"base form\" = lemma \n",
    "    return [word.lemma for word in words]\n",
    "\n",
    "data.message.head().apply(split_into_lemmas)\n",
    "print(data)"
   ]
  },
  {
   "cell_type": "code",
   "execution_count": 8,
   "metadata": {},
   "outputs": [],
   "source": [
    "#split the data into train/validation/test\n",
    "train_val_data, test_data = train_test_split(data, test_size=0.2, random_state=42)\n",
    "train_data, validation_data = train_test_split(train_val_data, test_size=0.25, random_state=42)  # 0.25 x 0.8 = 0.2\n",
    "train_data.to_csv('data/train.csv', index=False)\n",
    "validation_data.to_csv('data/validation.csv', index=False)\n",
    "test_data.to_csv('data/test.csv', index=False)"
   ]
  }
 ],
 "metadata": {
  "kernelspec": {
   "display_name": "Python 3",
   "language": "python",
   "name": "python3"
  },
  "language_info": {
   "codemirror_mode": {
    "name": "ipython",
    "version": 3
   },
   "file_extension": ".py",
   "mimetype": "text/x-python",
   "name": "python",
   "nbconvert_exporter": "python",
   "pygments_lexer": "ipython3",
   "version": "3.10.6"
  }
 },
 "nbformat": 4,
 "nbformat_minor": 2
}
