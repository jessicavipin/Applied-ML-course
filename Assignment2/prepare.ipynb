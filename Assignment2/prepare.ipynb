{
 "cells": [
  {
   "cell_type": "code",
   "execution_count": 1,
   "metadata": {},
   "outputs": [],
   "source": [
    "%matplotlib inline\n",
    "import matplotlib.pyplot as plt\n",
    "import csv\n",
    "from textblob import TextBlob\n",
    "import pandas\n",
    "import sklearn\n",
    "import pickle\n",
    "import numpy as np\n",
    "from sklearn.feature_extraction.text import CountVectorizer, TfidfTransformer\n",
    "from sklearn.naive_bayes import MultinomialNB\n",
    "from sklearn.svm import SVC, LinearSVC\n",
    "from sklearn.metrics import classification_report, f1_score, accuracy_score, confusion_matrix\n",
    "from sklearn.pipeline import Pipeline\n",
    "from sklearn.model_selection import GridSearchCV\n",
    "from sklearn.model_selection import StratifiedKFold, cross_val_score, train_test_split \n",
    "from sklearn.tree import DecisionTreeClassifier \n",
    "from sklearn.model_selection import learning_curve"
   ]
  },
  {
   "cell_type": "code",
   "execution_count": 9,
   "metadata": {},
   "outputs": [
    {
     "name": "stdout",
     "output_type": "stream",
     "text": [
      "\u001b[33mhint: Using 'master' as the name for the initial branch. This default branch name\u001b[m\n",
      "\u001b[33mhint: is subject to change. To configure the initial branch name to use in all\u001b[m\n",
      "\u001b[33mhint: of your new repositories, which will suppress this warning, call:\u001b[m\n",
      "\u001b[33mhint: \u001b[m\n",
      "\u001b[33mhint: \tgit config --global init.defaultBranch <name>\u001b[m\n",
      "\u001b[33mhint: \u001b[m\n",
      "\u001b[33mhint: Names commonly chosen instead of 'master' are 'main', 'trunk' and\u001b[m\n",
      "\u001b[33mhint: 'development'. The just-created branch can be renamed via this command:\u001b[m\n",
      "\u001b[33mhint: \u001b[m\n",
      "\u001b[33mhint: \tgit branch -m <name>\u001b[m\n",
      "Initialized empty Git repository in /home/jexica/Applied-ML-course/Assignment2/.git/\n"
     ]
    },
    {
     "name": "stdout",
     "output_type": "stream",
     "text": [
      "Initialized DVC repository.\n",
      "\n",
      "You can now commit the changes to git.\n",
      "\n",
      "\u001b[31m+---------------------------------------------------------------------+\n",
      "\u001b[0m\u001b[31m|\u001b[0m                                                                     \u001b[31m|\u001b[0m\n",
      "\u001b[31m|\u001b[0m        DVC has enabled anonymous aggregate usage analytics.         \u001b[31m|\u001b[0m\n",
      "\u001b[31m|\u001b[0m     Read the analytics documentation (and how to opt-out) here:     \u001b[31m|\u001b[0m\n",
      "\u001b[31m|\u001b[0m             <\u001b[36mhttps://dvc.org/doc/user-guide/analytics\u001b[39m>              \u001b[31m|\u001b[0m\n",
      "\u001b[31m|\u001b[0m                                                                     \u001b[31m|\u001b[0m\n",
      "\u001b[31m+---------------------------------------------------------------------+\n",
      "\u001b[0m\n",
      "\u001b[33mWhat's next?\u001b[39m\n",
      "\u001b[33m------------\u001b[39m\n",
      "- Check out the documentation: <\u001b[36mhttps://dvc.org/doc\u001b[39m>\n",
      "- Get help and share ideas: <\u001b[36mhttps://dvc.org/chat\u001b[39m>\n",
      "- Star us on GitHub: <\u001b[36mhttps://github.com/iterative/dvc\u001b[39m>\n",
      "\u001b[0m"
     ]
    }
   ],
   "source": [
    "! git init \n",
    "! dvc init -f"
   ]
  },
  {
   "cell_type": "code",
   "execution_count": 13,
   "metadata": {},
   "outputs": [
    {
     "name": "stdout",
     "output_type": "stream",
     "text": [
      "Setting 'remote_storage' as a default remote.\n",
      "\u001b[0m\u001b[33mcommit 256239e829ff3061bd09f87b006d5ad7fc5871f7\u001b[m\u001b[33m (\u001b[m\u001b[1;36mHEAD -> \u001b[m\u001b[1;32msecond_try\u001b[m\u001b[33m, \u001b[m\u001b[1;31morigin/main\u001b[m\u001b[33m, \u001b[m\u001b[1;31morigin/HEAD\u001b[m\u001b[33m, \u001b[m\u001b[1;32mmain\u001b[m\u001b[33m)\u001b[m\n",
      "Author: JESSICA VIPIN <73703357+jessicavipin@users.noreply.github.com>\n",
      "Date:   Tue Feb 20 23:45:05 2024 +0800\n",
      "\n",
      "    Add files via upload\n",
      "\n",
      "\u001b[33mcommit 54825859bdda6d4b8368b132690d8912cacead84\u001b[m\n",
      "Author: JESSICA VIPIN <73703357+jessicavipin@users.noreply.github.com>\n",
      "Date:   Wed Feb 7 05:48:22 2024 +0800\n",
      "\n",
      "    Update README.md\n",
      "\n",
      "\u001b[33mcommit c00140f7f1e4bdd439f6d391b5d13871189b65d0\u001b[m\n",
      "Author: JESSICA VIPIN <73703357+jessicavipin@users.noreply.github.com>\n",
      "Date:   Wed Feb 7 05:47:29 2024 +0800\n",
      "\n",
      "    Update README.md\n",
      "\n",
      "\u001b[33mcommit 033c20529c0bfe9a03208d1e0bcc2768dc6324c4\u001b[m\n",
      "Author: JESSICA VIPIN <73703357+jessicavipin@users.noreply.github.com>\n",
      "Date:   Wed Feb 7 05:47:07 2024 +0800\n",
      "\n",
      "    Update README.md\n",
      "\n",
      "\u001b[33mcommit 1a6e9b65c29eef38d261b97ad9e9241b8acd6c04\u001b[m\n",
      "Author: JESSICA VIPIN <73703357+jessicavipin@users.noreply.github.com>\n",
      "Date:   Wed Feb 7 05:45:56 2024 +0800\n",
      "\n",
      "    Update README.md\n",
      "\n",
      "\u001b[33mcommit 375db728bdb2fa3444a59c79a2a341b44440c244\u001b[m\n",
      "Author: JESSICA VIPIN <73703357+jessicavipin@users.noreply.github.com>\n",
      "Date:   Wed Feb 7 05:44:17 2024 +0800\n",
      "\n",
      "    Create README.md for Assignment 1\n",
      "\n",
      "\u001b[33mcommit 477ecbeed47489eedd2d9b7a700d4bded47bd0f0\u001b[m\n",
      "Author: JESSICA VIPIN <73703357+jessicavipin@users.noreply.github.com>\n",
      "Date:   Wed Feb 7 05:37:47 2024 +0800\n",
      "\n",
      "    Update README.md\n",
      "\n",
      "\u001b[33mcommit fa9182a6d92c64a0052feb1a89e9b192e2d169c9\u001b[m\n",
      "Author: JESSICA VIPIN <73703357+jessicavipin@users.noreply.github.com>\n",
      "Date:   Wed Feb 7 05:37:28 2024 +0800\n",
      "\n",
      "    Delete train.ipynb\n",
      "\n",
      "\u001b[33mcommit efd26e6037f6854e9424f701ba052230c8696ee0\u001b[m\n",
      "Author: JESSICA VIPIN <73703357+jessicavipin@users.noreply.github.com>\n",
      "Date:   Wed Feb 7 05:37:13 2024 +0800\n",
      "\n",
      "    Delete prepare.ipynb\n",
      "\n",
      "\u001b[33mcommit c73918cf10057e187719e6c452abec43b610717f\u001b[m\n",
      "Author: JESSICA VIPIN <73703357+jessicavipin@users.noreply.github.com>\n",
      "Date:   Wed Feb 7 05:35:14 2024 +0800\n",
      "\n",
      "    Delete file\n",
      "\n",
      "\u001b[33mcommit d6d5c51610f186749c2d22e400f7749f7275f162\u001b[m\n",
      "Author: JESSICA VIPIN <73703357+jessicavipin@users.noreply.github.com>\n",
      "Date:   Wed Feb 7 05:31:56 2024 +0800\n",
      "\n",
      "    Add files via upload\n",
      "\n",
      "\u001b[33mcommit 6da4c75850ac65d0956b465283686e2bf611ef1a\u001b[m\n",
      "Merge: 988d515 4f82cd9\n",
      "Author: JESSICA VIPIN <73703357+jessicavipin@users.noreply.github.com>\n",
      "Date:   Wed Feb 7 05:25:09 2024 +0800\n",
      "\n",
      "    Merge pull request #1 from jessicavipin/Assignment1\n",
      "    \n",
      "    Assignment1\n",
      "\n",
      "\u001b[33mcommit 4f82cd9cdd19421713dabee8333acb71d7df91b2\u001b[m\n",
      "Author: JESSICA VIPIN <73703357+jessicavipin@users.noreply.github.com>\n",
      "Date:   Wed Feb 7 05:24:18 2024 +0800\n",
      "\n",
      "    Add files via upload\n",
      "\n",
      "\u001b[33mcommit 988d515cbbe4594f1b765020d67ec0315de6c1b9\u001b[m\n",
      "Author: JESSICA VIPIN <73703357+jessicavipin@users.noreply.github.com>\n",
      "Date:   Wed Feb 7 05:22:53 2024 +0800\n",
      "\n",
      "    Uploaded the final version of the assignment\n",
      "\n",
      "\u001b[33mcommit 0ac0940ebb2213d127bb4afc531aed8c145c3534\u001b[m\n",
      "Author: JESSICA VIPIN <73703357+jessicavipin@users.noreply.github.com>\n",
      "Date:   Wed Feb 7 05:21:42 2024 +0800\n",
      "\n",
      "    Initial commit\n",
      "\u001b[?25l\u001b[32m⠋\u001b[0m Checking graph                                       core\u001b[39m>\n",
      "Adding...                                                                       \n",
      "!\u001b[A\n",
      "Collecting files and computing hashes in data/raw     |0.00 [00:00,     ?file/s]\u001b[A\n",
      "                                                                                \u001b[A\n",
      "!\u001b[A\n",
      "  0% Checking cache in '/home/jexica/Applied-ML-course/Assignment2/.dvc/cache/fi\u001b[A\n",
      "                                                                                \u001b[A\n",
      "!\u001b[A\n",
      "  0%|          |Adding data/raw to cache              0/1 [00:00<?,     ?file/s]\u001b[A\n",
      "                                                                                \u001b[A\n",
      "!\u001b[A\n",
      "  0%|          |Checking out /home/jexica/Applied-ML-c0/2 [00:00<?,    ?files/s]\u001b[A\n",
      "100% Adding...|████████████████████████████████████████|1/1 [00:00,  7.56file/s]\u001b[A\n",
      "\n",
      "To track the changes with git, run:\n",
      "\n",
      "\tgit add data/.gitignore data/raw.dvc\n",
      "\n",
      "To enable auto staging, run:\n",
      "\n",
      "\tdvc config core.autostage true\n",
      "\u001b[0m"
     ]
    }
   ],
   "source": [
    "! dvc remote add -d remote_storage gdrive://1mBSh692-OHn7R_tIz-j2QxLp6AKN91Jm\n",
    "! git log\n",
    "! dvc add \"data/raw\"\n",
    "! dvc add \"data/prepared\"\n",
    "! git add .\n",
    "! git commit -m \"Raw data & Initialize DVC\""
   ]
  },
  {
   "cell_type": "code",
   "execution_count": 12,
   "metadata": {},
   "outputs": [
    {
     "name": "stdout",
     "output_type": "stream",
     "text": [
      "\u001b[?25l\u001b[32m⠋\u001b[0m Checking graph                                       core\u001b[39m>\n",
      "Adding...                                                                       \n",
      "!\u001b[A\n",
      "Collecting files and computing hashes in data/raw     |0.00 [00:00,     ?file/s]\u001b[A\n",
      "Adding...                                                                       \u001b[A\n",
      "\u001b[31mERROR\u001b[39m:  output 'data/raw' is already tracked by SCM (e.g. Git).\n",
      "    You can remove it from Git, then add to DVC.\n",
      "        To stop tracking from Git:\n",
      "            git rm -r --cached 'data/raw'\n",
      "            git commit -m \"stop tracking data/raw\" \n",
      "\u001b[0m"
     ]
    }
   ],
   "source": [
    "! dvc add \"data/raw\""
   ]
  },
  {
   "cell_type": "code",
   "execution_count": 11,
   "metadata": {},
   "outputs": [
    {
     "name": "stdout",
     "output_type": "stream",
     "text": [
      "                                                message label\n",
      "1     Subject: naturally irresistible your corporate...     1\n",
      "2     Subject: the stock trading gunslinger  fanny i...     1\n",
      "3     Subject: unbelievable new homes made easy  im ...     1\n",
      "4     Subject: 4 color printing special  request add...     1\n",
      "5     Subject: do not have money , get software cds ...     1\n",
      "...                                                 ...   ...\n",
      "5724  Subject: re : research and development charges...     0\n",
      "5725  Subject: re : receipts from visit  jim ,  than...     0\n",
      "5726  Subject: re : enron case study update  wow ! a...     0\n",
      "5727  Subject: re : interest  david ,  please , call...     0\n",
      "5728  Subject: news : aurora 5 . 2 update  aurora ve...     0\n",
      "\n",
      "[5728 rows x 2 columns]\n"
     ]
    }
   ],
   "source": [
    "#load the data from a given file path\n",
    "data = pandas.read_csv('data/raw/emails.csv',sep=',',header=None)\n",
    "data= data[1:]\n",
    "data.columns=[\"message\", \"label\"]\n",
    "print(data)"
   ]
  },
  {
   "cell_type": "code",
   "execution_count": 36,
   "metadata": {},
   "outputs": [
    {
     "name": "stdout",
     "output_type": "stream",
     "text": [
      "                                                message label\n",
      "1     Subject: naturally irresistible your corporate...     1\n",
      "2     Subject: the stock trading gunslinger  fanny i...     1\n",
      "3     Subject: unbelievable new homes made easy  im ...     1\n",
      "4     Subject: 4 color printing special  request add...     1\n",
      "5     Subject: do not have money , get software cds ...     1\n",
      "...                                                 ...   ...\n",
      "5724  Subject: re : research and development charges...     0\n",
      "5725  Subject: re : receipts from visit  jim ,  than...     0\n",
      "5726  Subject: re : enron case study update  wow ! a...     0\n",
      "5727  Subject: re : interest  david ,  please , call...     0\n",
      "5728  Subject: news : aurora 5 . 2 update  aurora ve...     0\n",
      "\n",
      "[5728 rows x 2 columns]\n"
     ]
    }
   ],
   "source": [
    "#Preprocess the data\n",
    "def split_into_lemmas(data):\n",
    "    data = data.lower()\n",
    "    words = TextBlob(data).words\n",
    "    # for each word, take its \"base form\" = lemma \n",
    "    return [word.lemma for word in words]\n",
    "\n",
    "data.message.head().apply(split_into_lemmas)\n",
    "print(data)"
   ]
  },
  {
   "cell_type": "code",
   "execution_count": 115,
   "metadata": {},
   "outputs": [],
   "source": [
    "#First split the data into train/validation/test\n",
    "train_val_data, test_data = train_test_split(data, test_size=0.2, random_state=42)\n",
    "train_data, validation_data = train_test_split(train_val_data, test_size=0.25, random_state=42)  # 0.25 x 0.8 = 0.2\n",
    "train_data.to_csv('data/prepared/train.csv', index=False)\n",
    "validation_data.to_csv('data/prepared/validation.csv', index=False)\n",
    "test_data.to_csv('data/prepared/test.csv', index=False)"
   ]
  },
  {
   "cell_type": "code",
   "execution_count": 38,
   "metadata": {},
   "outputs": [
    {
     "name": "stdout",
     "output_type": "stream",
     "text": [
      "data/prepared.dvc:                                                              \n",
      "\tchanged outs:\n",
      "\t\tmodified:           data/prepared\n",
      "\u001b[?25l\u001b[32m⠋\u001b[0m Checking graph                                       core\u001b[39m>\n",
      "Adding...                                                                       \n",
      "!\u001b[A\n",
      "Collecting files and computing hashes in data/raw/emails.csv |0.00 [00:00,     ?\u001b[A\n",
      "                                                                                \u001b[A\n",
      "!\u001b[A\n",
      "  0% Checking cache in '/home/jexica/Applied-ML-course/Assignment2/.dvc/cache/fi\u001b[A\n",
      "                                                                                \u001b[A\n",
      "!\u001b[A\n",
      "  0%|          |Checking out /home/jexica/Applied-ML-c0/1 [00:00<?,    ?files/s]\u001b[A\n",
      "100% Adding...|████████████████████████████████████████|1/1 [00:00, 16.50file/s]\u001b[A\n",
      "\u001b[?25l                                                                core\u001b[39m>\u001b[32m⠋\u001b[0m Checking graph\n",
      "Adding...                                                                       \n",
      "!\u001b[A\n",
      "Collecting files and computing hashes in data/prepared |0.00 [00:00,     ?file/s\u001b[A\n",
      "                                                                                \u001b[A\n",
      "!\u001b[A\n",
      "  0% Checking cache in '/home/jexica/Applied-ML-course/Assignment2/.dvc/cache/fi\u001b[A\n",
      "                                                                                \u001b[A\n",
      "!\u001b[A\n",
      "  0%|          |Checking out /home/jexica/Applied-ML-c0/4 [00:00<?,    ?files/s]\u001b[A\n",
      " 25%|██▌       |Checking out /home/jexica/Applied1/4 [00:00<00:00,  9.60files/s]\u001b[A\n",
      " 50%|█████     |Checking out /home/jexica/Applied2/4 [00:00<00:00,  9.61files/s]\u001b[A\n",
      " 75%|███████▌  |Checking out /home/jexica/Applied3/4 [00:00<00:00,  4.69files/s]\u001b[A\n",
      "100% Adding...|████████████████████████████████████████|1/1 [00:00,  1.58file/s]\u001b[A\n",
      "\u001b[0m"
     ]
    }
   ],
   "source": [
    "! dvc status\n",
    "! dvc add \"data/raw/emails.csv\"\n",
    "! dvc add \"data/prepared\""
   ]
  },
  {
   "cell_type": "code",
   "execution_count": 39,
   "metadata": {},
   "outputs": [
    {
     "name": "stdout",
     "output_type": "stream",
     "text": [
      "Collecting                                            |0.00 [00:00,    ?entry/s]\n",
      "Pushing\n",
      "!\u001b[A\n",
      "  0% Querying remote cache|                          |0/1 [00:00<?,    ?files/s]\u001b[A\n",
      "100% Querying remote cache|█████████████████████|1/1 [00:09<00:00,  9.84s/files]\u001b[A\n",
      "                                                                                \u001b[A\n",
      "!\u001b[A\n",
      "  0% Querying remote cache|                          |0/0 [00:00<?,    ?files/s]\u001b[A\n",
      "                                                                                \u001b[A\n",
      "!\u001b[A\n",
      "  0% Checking cache in '1mBSh692-OHn7R_tIz-j2QxLp6AKN91Jm/files/md5'| |0/? [00:0\u001b[A\n",
      "100% Querying cache in '1mBSh692-OHn7R_tIz-j2QxLp6AKN91Jm/files/md5'|█|1/1 [00:0\u001b[A\n",
      "Pushing                                                                         \u001b[A\n",
      "Everything is up to date.\n",
      "\u001b[0m[master 19e4405] Adding the first version of split data\n",
      " 2 files changed, 55 insertions(+), 54 deletions(-)\n"
     ]
    }
   ],
   "source": [
    "! dvc push\n",
    "! git add .\n",
    "! git commit -m \"Adding the first version of split data\""
   ]
  },
  {
   "cell_type": "markdown",
   "metadata": {},
   "source": [
    "# Update Version with different seed \n"
   ]
  },
  {
   "cell_type": "code",
   "execution_count": 116,
   "metadata": {},
   "outputs": [],
   "source": [
    "#Updated split of the data into train/validation/test\n",
    "train_val_data, test_data = train_test_split(data, test_size=0.2, random_state=73)\n",
    "train_data, validation_data = train_test_split(train_val_data, test_size=0.25, random_state=73)  # 0.25 x 0.8 = 0.2\n",
    "train_data.to_csv('data/prepared/train.csv', index=False)\n",
    "validation_data.to_csv('data/prepared/validation.csv', index=False)\n",
    "test_data.to_csv('data/prepared/test.csv', index=False)"
   ]
  },
  {
   "cell_type": "code",
   "execution_count": 41,
   "metadata": {},
   "outputs": [
    {
     "name": "stdout",
     "output_type": "stream",
     "text": [
      "data/prepared.dvc:                                                              \n",
      "\tchanged outs:\n",
      "\t\tmodified:           data/prepared\n",
      "\u001b[?25l\u001b[32m⠋\u001b[0m Checking graph                                       core\u001b[39m>\n",
      "Adding...                                                                       \n",
      "!\u001b[A\n",
      "Collecting files and computing hashes in data/prepared |0.00 [00:00,     ?file/s\u001b[A\n",
      "                                                                                \u001b[A\n",
      "!\u001b[A\n",
      "  0% Checking cache in '/home/jexica/Applied-ML-course/Assignment2/.dvc/cache/fi\u001b[A\n",
      "                                                                                \u001b[A\n",
      "!\u001b[A\n",
      "  0%|          |Checking out /home/jexica/Applied-ML-c0/4 [00:00<?,    ?files/s]\u001b[A\n",
      " 50%|█████     |Checking out /home/jexica/Applied2/4 [00:00<00:00,  9.47files/s]\u001b[A\n",
      "100% Adding...|████████████████████████████████████████|1/1 [00:00,  3.59file/s]\u001b[A\n",
      "\u001b[0m"
     ]
    }
   ],
   "source": [
    "! dvc status\n",
    "! dvc add \"data/prepared\""
   ]
  },
  {
   "cell_type": "code",
   "execution_count": 44,
   "metadata": {},
   "outputs": [
    {
     "name": "stdout",
     "output_type": "stream",
     "text": [
      "Collecting                                            |0.00 [00:00,    ?entry/s]\n",
      "Pushing\n",
      "!\u001b[A\n",
      "  0% Querying remote cache|                          |0/1 [00:00<?,    ?files/s]\u001b[A\n",
      "100% Querying remote cache|█████████████████████|1/1 [00:03<00:00,  3.20s/files]\u001b[A\n",
      "                                                                                \u001b[A\n",
      "!\u001b[A\n",
      "  0% Querying remote cache|                          |0/1 [00:00<?,    ?files/s]\u001b[A\n",
      "                                                                                \u001b[A\n",
      "!\u001b[A\n",
      "  0% Checking cache in '1mBSh692-OHn7R_tIz-j2QxLp6AKN91Jm/files/md5'| |0/? [00:0\u001b[A\n",
      "  0% Querying cache in '1mBSh692-OHn7R_tIz-j2QxLp6AKN91Jm/files/md5'| |1/256 [00\u001b[A\n",
      "                                                                                \u001b[A\n",
      "!\u001b[A\n",
      "  0% Checking cache in '/home/jexica/Applied-ML-course/Assignment2/.dvc/cache/fi\u001b[A\n",
      "                                                                                \u001b[A\n",
      "!\u001b[A\n",
      "  0%|          |Pushing to gdrive                     0/3 [00:00<?,     ?file/s]\u001b[A\n",
      "  0%|          |Pushing to gdrive                     0/2 [00:00<?,     ?file/s]\u001b[A\n",
      "\n",
      "!\u001b[A\u001b[A\n",
      "\n",
      "  0%|          |/home/jexica/Applied-ML-course/0.00/1.68M [00:00<?,        ?B/s]\u001b[A\u001b[A\n",
      "\n",
      "  0%|          |/home/jexica/Applied-ML-co8.00k/1.68M [00:00<03:00,    9.75kB/s]\u001b[A\u001b[A\n",
      "\n",
      "  6%|▌         |/home/jexica/Applied-ML-cou104k/1.68M [00:01<00:17,    92.8kB/s]\u001b[A\u001b[A\n",
      "\n",
      " 18%|█▊        |/home/jexica/Applied-ML-cou304k/1.68M [00:01<00:05,     288kB/s]\u001b[A\u001b[A\n",
      "\n",
      " 32%|███▏      |/home/jexica/Applied-ML-cou544k/1.68M [00:01<00:02,     480kB/s]\u001b[A\u001b[A\n",
      "\n",
      " 42%|████▏     |/home/jexica/Applied-ML-cou720k/1.68M [00:01<00:01,     598kB/s]\u001b[A\u001b[A\n",
      "\n",
      " 52%|█████▏    |/home/jexica/Applied-ML-cou904k/1.68M [00:02<00:01,     676kB/s]\u001b[A\u001b[A\n",
      "\n",
      " 63%|██████▎   |/home/jexica/Applied-ML-co1.05M/1.68M [00:02<00:01,     654kB/s]\u001b[A\u001b[A\n",
      "\n",
      " 77%|███████▋  |/home/jexica/Applied-ML-co1.29M/1.68M [00:02<00:00,     723kB/s]\u001b[A\u001b[A\n",
      "\n",
      " 90%|█████████ |/home/jexica/Applied-ML-co1.52M/1.68M [00:03<00:00,     803kB/s]\u001b[A\u001b[A\n",
      "\n",
      "                                                                                \u001b[A\u001b[A\n",
      " 50%|█████     |Pushing to gdrive                 1/2 [00:06<00:06,  6.13s/file]\u001b[A\n",
      "\n",
      "!\u001b[A\u001b[A\n",
      "\n",
      "  0%|          |/home/jexica/Applied-ML-course/0.00/5.14M [00:00<?,        ?B/s]\u001b[A\u001b[A\n",
      "\n",
      "  0%|          |/home/jexica/Applied-ML-co8.00k/5.14M [00:01<11:13,    7.99kB/s]\u001b[A\u001b[A\n",
      "\n",
      " 13%|█▎        |/home/jexica/Applied-ML-cou680k/5.14M [00:01<00:09,     483kB/s]\u001b[A\u001b[A\n",
      "\n",
      " 17%|█▋        |/home/jexica/Applied-ML-cou920k/5.14M [00:02<00:09,     493kB/s]\u001b[A\u001b[A\n",
      "\n",
      " 22%|██▏       |/home/jexica/Applied-ML-co1.13M/5.14M [00:02<00:08,     505kB/s]\u001b[A\u001b[A\n",
      "\n",
      " 27%|██▋       |/home/jexica/Applied-ML-co1.37M/5.14M [00:03<00:07,     541kB/s]\u001b[A\u001b[A\n",
      "\n",
      " 31%|███       |/home/jexica/Applied-ML-co1.60M/5.14M [00:03<00:06,     580kB/s]\u001b[A\u001b[A\n",
      "\n",
      " 37%|███▋      |/home/jexica/Applied-ML-co1.89M/5.14M [00:03<00:05,     656kB/s]\u001b[A\u001b[A\n",
      "\n",
      " 42%|████▏     |/home/jexica/Applied-ML-co2.18M/5.14M [00:04<00:04,     665kB/s]\u001b[A\u001b[A\n",
      "\n",
      " 48%|████▊     |/home/jexica/Applied-ML-co2.48M/5.14M [00:04<00:04,     670kB/s]\u001b[A\u001b[A\n",
      "\n",
      " 55%|█████▌    |/home/jexica/Applied-ML-co2.83M/5.14M [00:05<00:03,     742kB/s]\u001b[A\u001b[A\n",
      "\n",
      " 62%|██████▏   |/home/jexica/Applied-ML-co3.17M/5.14M [00:05<00:02,     746kB/s]\u001b[A\u001b[A\n",
      "\n",
      " 69%|██████▊   |/home/jexica/Applied-ML-co3.52M/5.14M [00:06<00:02,     733kB/s]\u001b[A\u001b[A\n",
      "\n",
      " 77%|███████▋  |/home/jexica/Applied-ML-co3.94M/5.14M [00:06<00:01,     707kB/s]\u001b[A\u001b[A\n",
      "\n",
      " 85%|████████▍ |/home/jexica/Applied-ML-co4.34M/5.14M [00:07<00:01,     765kB/s]\u001b[A\u001b[A\n",
      "\n",
      " 94%|█████████▎|/home/jexica/Applied-ML-co4.81M/5.14M [00:07<00:00,     797kB/s]\u001b[A\u001b[A\n",
      "\n",
      "                                                                                \u001b[A\u001b[A\n",
      "100%|██████████|Pushing to gdrive                 2/2 [00:18<00:00,  9.03s/file]\u001b[A\n",
      "\n",
      "!\u001b[A\u001b[A\n",
      "\n",
      "  0%|          |/home/jexica/Applied-ML-course/As0.00/211 [00:00<?,        ?B/s]\u001b[A\u001b[A\n",
      "\n",
      "100%|██████████|/home/jexica/Applied-ML-course211/211 [00:02<00:00,     81.4B/s]\u001b[A\u001b[A\n",
      "\n",
      "                                                                                \u001b[A\u001b[A\n",
      "  0%|          |Pushing to gdrive                 3/? [00:22<00:00,  6.97s/file]\u001b[A\n",
      "Pushing                                                                         \u001b[A\n",
      "3 files pushed\n",
      "\u001b[0m"
     ]
    }
   ],
   "source": [
    "! git add .\n",
    "! dvc push"
   ]
  },
  {
   "cell_type": "code",
   "execution_count": 45,
   "metadata": {},
   "outputs": [
    {
     "name": "stdout",
     "output_type": "stream",
     "text": [
      "[master 9d62d02] Updated version of split data using different seed\n",
      " 1 file changed, 11 insertions(+), 19 deletions(-)\n"
     ]
    }
   ],
   "source": [
    "! git commit -m \"Updated version of split data using different seed\""
   ]
  },
  {
   "cell_type": "markdown",
   "metadata": {},
   "source": [
    "# Target Variable Distribution"
   ]
  },
  {
   "cell_type": "code",
   "execution_count": 114,
   "metadata": {},
   "outputs": [],
   "source": [
    "def print_label_distribution(data, filename):\n",
    "    print(\"Number of 0s in \" + filename + \" - \" + str((data['label']== 0).sum()))\n",
    "    print(\"Number of 1s in \" + filename + \" - \" + str((data['label']== 1).sum()))"
   ]
  },
  {
   "cell_type": "code",
   "execution_count": 117,
   "metadata": {},
   "outputs": [
    {
     "name": "stdout",
     "output_type": "stream",
     "text": [
      "\u001b[33m9d62d02\u001b[m\u001b[33m (\u001b[m\u001b[1;36mHEAD\u001b[m\u001b[33m, \u001b[m\u001b[1;32mmaster\u001b[m\u001b[33m)\u001b[m Updated version of split data using different seed\n",
      "\u001b[33m32da419\u001b[m Updated version of split data using different seed\n",
      "\u001b[33m19e4405\u001b[m Adding the first version of split data\n",
      "\u001b[33m4953743\u001b[m Updated version of split data using different seed\n",
      "\u001b[33m15d6e38\u001b[m Adding the first version of split data\n",
      "\u001b[33m28c1430\u001b[m Updated version of split data using different seed\n",
      "\u001b[33m4b1f95b\u001b[m Adding the first version of split data\n",
      "\u001b[33m7234cc4\u001b[m Adding the first version of split data\n",
      "\u001b[33md89e4db\u001b[m Raw data and Initialize dvc\n"
     ]
    }
   ],
   "source": [
    "! git log --oneline"
   ]
  },
  {
   "cell_type": "code",
   "execution_count": 130,
   "metadata": {},
   "outputs": [
    {
     "name": "stdout",
     "output_type": "stream",
     "text": [
      "Updated 0 paths from 4c0d1fb\n"
     ]
    },
    {
     "name": "stdout",
     "output_type": "stream",
     "text": [
      "Building workspace index                              |8.00 [00:00,  218entry/s]\n",
      "Comparing indexes                                    |8.00 [00:00, 1.11kentry/s]\n",
      "Applying changes                                      |0.00 [00:00,     ?file/s]\n",
      "Collecting                                            |0.00 [00:00,    ?entry/s]\n",
      "Fetching\n",
      "!\u001b[A\n",
      "  0% Checking cache in '/home/jexica/Applied-ML-course/Assignment2/.dvc/cache/fi\u001b[A\n",
      "Fetching                                                                        \u001b[A\n",
      "Building workspace index                             |8.00 [00:00, 1.88kentry/s]\n",
      "Comparing indexes                                    |8.00 [00:00, 1.97kentry/s]\n",
      "Applying changes                                      |0.00 [00:00,     ?file/s]\n",
      "Everything is up to date.\n",
      "\u001b[0m"
     ]
    }
   ],
   "source": [
    "! git checkout 28c1430 \"data/prepared.dvc\"\n",
    "! dvc checkout\n",
    "! dvc pull"
   ]
  },
  {
   "cell_type": "code",
   "execution_count": 123,
   "metadata": {},
   "outputs": [
    {
     "name": "stdout",
     "output_type": "stream",
     "text": [
      "\u001b[33m9d62d02\u001b[m\u001b[33m (\u001b[m\u001b[1;36mHEAD\u001b[m\u001b[33m, \u001b[m\u001b[1;32mmaster\u001b[m\u001b[33m)\u001b[m Updated version of split data using different seed\n",
      "\u001b[33m32da419\u001b[m Updated version of split data using different seed\n",
      "\u001b[33m19e4405\u001b[m Adding the first version of split data\n",
      "\u001b[33m4953743\u001b[m Updated version of split data using different seed\n",
      "\u001b[33m15d6e38\u001b[m Adding the first version of split data\n",
      "\u001b[33m28c1430\u001b[m Updated version of split data using different seed\n",
      "\u001b[33m4b1f95b\u001b[m Adding the first version of split data\n",
      "\u001b[33m7234cc4\u001b[m Adding the first version of split data\n",
      "\u001b[33md89e4db\u001b[m Raw data and Initialize dvc\n"
     ]
    }
   ],
   "source": [
    "! git log --oneline"
   ]
  },
  {
   "cell_type": "code",
   "execution_count": 131,
   "metadata": {},
   "outputs": [],
   "source": [
    "train_data = pandas.read_csv('data/prepared/train.csv')\n",
    "validation_data = pandas.read_csv('data/prepared/validation.csv')\n",
    "test_data = pandas.read_csv('data/prepared/test.csv')"
   ]
  },
  {
   "cell_type": "code",
   "execution_count": 132,
   "metadata": {},
   "outputs": [
    {
     "name": "stdout",
     "output_type": "stream",
     "text": [
      "Number of 0s in train.csv - 2624\n",
      "Number of 1s in train.csv - 812\n",
      "Number of 0s in validation.csv - 870\n",
      "Number of 1s in validation.csv - 276\n",
      "Number of 0s in test.csv - 866\n",
      "Number of 1s in test.csv - 280\n"
     ]
    }
   ],
   "source": [
    "print_label_distribution(train_data, \"train.csv\")\n",
    "print_label_distribution(validation_data, \"validation.csv\")\n",
    "print_label_distribution(test_data, \"test.csv\")"
   ]
  }
 ],
 "metadata": {
  "kernelspec": {
   "display_name": "Python 3",
   "language": "python",
   "name": "python3"
  },
  "language_info": {
   "codemirror_mode": {
    "name": "ipython",
    "version": 3
   },
   "file_extension": ".py",
   "mimetype": "text/x-python",
   "name": "python",
   "nbconvert_exporter": "python",
   "pygments_lexer": "ipython3",
   "version": "3.10.6"
  }
 },
 "nbformat": 4,
 "nbformat_minor": 2
}
